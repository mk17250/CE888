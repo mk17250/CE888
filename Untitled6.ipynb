{
 "cells": [
  {
   "cell_type": "code",
   "execution_count": 3,
   "metadata": {},
   "outputs": [],
   "source": [
    "# Load the data\n",
    "import numpy as np\n",
    "import pandas as pd\n",
    "df = pd.read_csv('https://raw.githubusercontent.com/albanda/CE888/master/lab2%20-%20bootstrap/customers.csv')\n",
    "data = df.values.T[1]"
   ]
  },
  {
   "cell_type": "code",
   "execution_count": 5,
   "metadata": {},
   "outputs": [
    {
     "name": "stdout",
     "output_type": "stream",
     "text": [
      "    Day   Millons of pounds in sales\n",
      "0     1                          2.0\n",
      "1     2                          8.0\n",
      "2     3                         20.0\n",
      "3     4                         13.0\n",
      "4     5                          5.0\n",
      "5     6                          9.0\n",
      "6     7                         10.0\n",
      "7     8                          8.0\n",
      "8     9                         22.0\n",
      "9    10                         10.0\n",
      "10   11                          2.0\n",
      "11   12                          4.0\n",
      "12   13                          7.0\n",
      "13   14                          9.0\n"
     ]
    }
   ],
   "source": [
    "print(df)"
   ]
  },
  {
   "cell_type": "code",
   "execution_count": null,
   "metadata": {},
   "outputs": [],
   "source": [
    "def bootstrap_mean(x, sample_size, n_bootstraps):\n",
    "    "
   ]
  },
  {
   "cell_type": "code",
   "execution_count": 13,
   "metadata": {},
   "outputs": [
    {
     "data": {
      "text/plain": [
       "array([20.,  2., 13., 22.,  7.,  8.,  8., 10., 20.,  2.,  2.,  9., 22.,\n",
       "       22.])"
      ]
     },
     "execution_count": 13,
     "metadata": {},
     "output_type": "execute_result"
    }
   ],
   "source": [
    "np.random.choice(data, size=14 )"
   ]
  },
  {
   "cell_type": "code",
   "execution_count": 14,
   "metadata": {},
   "outputs": [
    {
     "data": {
      "text/plain": [
       "14"
      ]
     },
     "execution_count": 14,
     "metadata": {},
     "output_type": "execute_result"
    }
   ],
   "source": [
    "len(data)"
   ]
  },
  {
   "cell_type": "code",
   "execution_count": 22,
   "metadata": {},
   "outputs": [
    {
     "data": {
      "text/plain": [
       "[array([ 4.,  5., 10., 20., 10.,  8.,  9.,  2.,  7.,  8.,  8.,  2.,  4.,\n",
       "         4.]),\n",
       " array([22., 10.,  4.,  8.,  2., 22., 13.,  8.,  2.,  8.,  2., 13.,  8.,\n",
       "         2.]),\n",
       " array([ 2.,  5., 22.,  9.,  8.,  8.,  8., 10.,  7.,  9., 22.,  8.,  4.,\n",
       "         7.]),\n",
       " array([10., 13.,  5.,  7., 22.,  9.,  5., 10., 10.,  5., 13.,  9.,  8.,\n",
       "         9.]),\n",
       " array([13.,  2.,  5.,  8., 20.,  2., 10., 13., 20.,  4., 10.,  8.,  9.,\n",
       "         2.]),\n",
       " array([10.,  5., 10.,  8.,  8., 10.,  8.,  9.,  2., 13.,  5.,  5.,  2.,\n",
       "        20.]),\n",
       " array([ 4.,  9.,  2.,  4., 20.,  2., 10.,  9.,  9., 10.,  5., 20., 13.,\n",
       "         5.]),\n",
       " array([ 7.,  8., 13.,  4.,  2., 10., 20., 20.,  5.,  9.,  2.,  8.,  2.,\n",
       "         4.]),\n",
       " array([10.,  8.,  2.,  7.,  2.,  5.,  8.,  2., 10., 22., 20.,  8., 10.,\n",
       "         7.]),\n",
       " array([10.,  5.,  8.,  2.,  4., 13.,  8., 22.,  4.,  9.,  4.,  8.,  5.,\n",
       "         7.]),\n",
       " array([ 2.,  5.,  4., 20.,  7.,  9.,  2.,  9.,  5., 10.,  8., 22., 13.,\n",
       "         7.]),\n",
       " array([10., 22., 22.,  9.,  2., 22., 22.,  7., 10.,  7.,  2.,  8., 22.,\n",
       "         5.]),\n",
       " array([ 8., 22., 10., 10.,  2.,  5.,  4.,  9.,  7., 10.,  9.,  9., 13.,\n",
       "         7.]),\n",
       " array([10.,  7., 10.,  2.,  2.,  7.,  5., 13., 20.,  5.,  9., 10., 10.,\n",
       "        20.])]"
      ]
     },
     "execution_count": 22,
     "metadata": {},
     "output_type": "execute_result"
    }
   ],
   "source": [
    "bs_sample_array = [np.random.choice(data, size=len(data)) for i in range(len(data))]\n",
    "bs_sample_array"
   ]
  }
 ],
 "metadata": {
  "kernelspec": {
   "display_name": "Python 3",
   "language": "python",
   "name": "python3"
  },
  "language_info": {
   "codemirror_mode": {
    "name": "ipython",
    "version": 3
   },
   "file_extension": ".py",
   "mimetype": "text/x-python",
   "name": "python",
   "nbconvert_exporter": "python",
   "pygments_lexer": "ipython3",
   "version": "3.8.5"
  }
 },
 "nbformat": 4,
 "nbformat_minor": 4
}
