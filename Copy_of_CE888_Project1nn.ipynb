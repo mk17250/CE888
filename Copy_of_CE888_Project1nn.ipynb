{
  "nbformat": 4,
  "nbformat_minor": 0,
  "metadata": {
    "colab": {
      "name": "Copy of CE888 Project1nn",
      "provenance": [],
      "authorship_tag": "ABX9TyP9RFSeN4SEMkJqD2SqLqfx",
      "include_colab_link": true
    },
    "kernelspec": {
      "name": "python3",
      "display_name": "Python 3"
    }
  },
  "cells": [
    {
      "cell_type": "markdown",
      "metadata": {
        "id": "view-in-github",
        "colab_type": "text"
      },
      "source": [
        "<a href=\"https://colab.research.google.com/github/mk17250/CE888/blob/main/Copy_of_CE888_Project1nn.ipynb\" target=\"_parent\"><img src=\"https://colab.research.google.com/assets/colab-badge.svg\" alt=\"Open In Colab\"/></a>"
      ]
    },
    {
      "cell_type": "code",
      "metadata": {
        "id": "brZDIP4uIjkH"
      },
      "source": [
        "import tensorflow as tf\r\n",
        "from tensorflow import keras\r\n",
        "from keras.models import Sequential\r\n",
        "from keras.layers import Dense, Flatten, Conv2D, MaxPooling2D, Dropout\r\n",
        "from tensorflow.keras import layers \r\n",
        "from keras.utils import to_categorical\r\n",
        "import numpy as np\r\n",
        "import matplotlib.pyplot as plt\r\n",
        "import os\r\n",
        "import glob\r\n",
        "import cv2\r\n",
        "plt.style.use('fivethirtyeight')"
      ],
      "execution_count": null,
      "outputs": []
    },
    {
      "cell_type": "code",
      "metadata": {
        "id": "Bd0I3xTrJ3_0"
      },
      "source": [
        "list_test_fire = []\r\n",
        "path = \"C:/Users/Home/OneDrive/CE888/Test/Fire/*\"\r\n",
        "for file in glob.glob(path):\r\n",
        "    print(file)\r\n",
        "    a=cv2.imread(file)\r\n",
        "    list_test_fire.append(a)"
      ],
      "execution_count": null,
      "outputs": []
    },
    {
      "cell_type": "code",
      "metadata": {
        "id": "sS5kEBWVns-R"
      },
      "source": [
        "list_test_nofire = []\r\n",
        "path = \"C:/Users/Home/OneDrive/CE888/Test/No_Fire/*\"\r\n",
        "for file in glob.glob(path):\r\n",
        "    print(file)\r\n",
        "    a=cv2.imread(file)\r\n",
        "    list_test_nofire.append(a)"
      ],
      "execution_count": null,
      "outputs": []
    },
    {
      "cell_type": "code",
      "metadata": {
        "id": "oWUCaUBGnwX3"
      },
      "source": [
        "list_training_fire = []\r\n",
        "path = \"C:/Users/Home/OneDrive/CE888/Training/Fire/*\"\r\n",
        "for file in glob.glob(path):\r\n",
        "    print(file)\r\n",
        "    a=cv2.imread(file)\r\n",
        "    list_training_fire.append(a)"
      ],
      "execution_count": null,
      "outputs": []
    },
    {
      "cell_type": "code",
      "metadata": {
        "id": "oQY85nQPn1wH"
      },
      "source": [
        "list_training_nofire = []\r\n",
        "path = \"C:/Users/Home/OneDrive/CE888/Training/No_Fire/*\"\r\n",
        "for file in glob.glob(path):\r\n",
        "    print(file)\r\n",
        "    a=cv2.imread(file)\r\n",
        "    list_training_nofire.append(a)"
      ],
      "execution_count": null,
      "outputs": []
    },
    {
      "cell_type": "code",
      "metadata": {
        "colab": {
          "base_uri": "https://localhost:8080/",
          "height": 163
        },
        "id": "QNunz5A-n9Zf",
        "outputId": "25b57c2f-e036-4d4a-d997-bc3982a1fbc1"
      },
      "source": [
        "plt.imshow(list_test_fire[50])"
      ],
      "execution_count": null,
      "outputs": [
        {
          "output_type": "error",
          "ename": "IndexError",
          "evalue": "ignored",
          "traceback": [
            "\u001b[0;31m---------------------------------------------------------------------------\u001b[0m",
            "\u001b[0;31mIndexError\u001b[0m                                Traceback (most recent call last)",
            "\u001b[0;32m<ipython-input-13-5e150753b766>\u001b[0m in \u001b[0;36m<module>\u001b[0;34m()\u001b[0m\n\u001b[0;32m----> 1\u001b[0;31m \u001b[0mplt\u001b[0m\u001b[0;34m.\u001b[0m\u001b[0mimshow\u001b[0m\u001b[0;34m(\u001b[0m\u001b[0mlist_test_fire\u001b[0m\u001b[0;34m[\u001b[0m\u001b[0;36m50\u001b[0m\u001b[0;34m]\u001b[0m\u001b[0;34m)\u001b[0m\u001b[0;34m\u001b[0m\u001b[0;34m\u001b[0m\u001b[0m\n\u001b[0m",
            "\u001b[0;31mIndexError\u001b[0m: list index out of range"
          ]
        }
      ]
    },
    {
      "cell_type": "code",
      "metadata": {
        "colab": {
          "base_uri": "https://localhost:8080/",
          "height": 163
        },
        "id": "AmF7zHKQoEQv",
        "outputId": "3290fcbf-56e5-4a5e-d8e1-8187941b624f"
      },
      "source": [
        "plt.imshow(list_test_nofire[50])"
      ],
      "execution_count": null,
      "outputs": [
        {
          "output_type": "error",
          "ename": "NameError",
          "evalue": "ignored",
          "traceback": [
            "\u001b[0;31m---------------------------------------------------------------------------\u001b[0m",
            "\u001b[0;31mNameError\u001b[0m                                 Traceback (most recent call last)",
            "\u001b[0;32m<ipython-input-6-0eb7e057532c>\u001b[0m in \u001b[0;36m<module>\u001b[0;34m()\u001b[0m\n\u001b[0;32m----> 1\u001b[0;31m \u001b[0mplt\u001b[0m\u001b[0;34m.\u001b[0m\u001b[0mimshow\u001b[0m\u001b[0;34m(\u001b[0m\u001b[0mlist_test_nofire\u001b[0m\u001b[0;34m[\u001b[0m\u001b[0;36m50\u001b[0m\u001b[0;34m]\u001b[0m\u001b[0;34m)\u001b[0m\u001b[0;34m\u001b[0m\u001b[0;34m\u001b[0m\u001b[0m\n\u001b[0m",
            "\u001b[0;31mNameError\u001b[0m: name 'list_test_nofire' is not defined"
          ]
        }
      ]
    },
    {
      "cell_type": "code",
      "metadata": {
        "id": "Sjgq7ykQoNlO"
      },
      "source": [
        "plt.imshow(list_training_fire[50])"
      ],
      "execution_count": null,
      "outputs": []
    }
  ]
}